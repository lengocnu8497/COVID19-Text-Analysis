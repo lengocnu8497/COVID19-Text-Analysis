{
 "cells": [
  {
   "cell_type": "code",
   "execution_count": 1,
   "metadata": {},
   "outputs": [
    {
     "name": "stdout",
     "output_type": "stream",
     "text": [
      "Collecting spacy\n",
      "  Downloading spacy-2.3.2-cp38-cp38-win_amd64.whl (9.5 MB)\n",
      "Requirement already satisfied: setuptools in d:\\conda\\lib\\site-packages (from spacy) (49.2.0.post20200714)\n",
      "Requirement already satisfied: tqdm<5.0.0,>=4.38.0 in d:\\conda\\lib\\site-packages (from spacy) (4.47.0)\n",
      "Collecting cymem<2.1.0,>=2.0.2\n",
      "  Downloading cymem-2.0.3-cp38-cp38-win_amd64.whl (33 kB)\n",
      "Collecting srsly<1.1.0,>=1.0.2\n",
      "  Downloading srsly-1.0.2-cp38-cp38-win_amd64.whl (181 kB)\n",
      "Requirement already satisfied: numpy>=1.15.0 in d:\\conda\\lib\\site-packages (from spacy) (1.18.5)\n",
      "Collecting wasabi<1.1.0,>=0.4.0\n",
      "  Downloading wasabi-0.8.0-py3-none-any.whl (23 kB)\n",
      "Collecting thinc==7.4.1\n",
      "  Downloading thinc-7.4.1-cp38-cp38-win_amd64.whl (2.1 MB)\n",
      "Collecting catalogue<1.1.0,>=0.0.7\n",
      "  Downloading catalogue-1.0.0-py2.py3-none-any.whl (7.7 kB)\n",
      "Collecting plac<1.2.0,>=0.9.6\n",
      "  Downloading plac-1.1.3-py2.py3-none-any.whl (20 kB)\n",
      "Requirement already satisfied: requests<3.0.0,>=2.13.0 in d:\\conda\\lib\\site-packages (from spacy) (2.24.0)\n",
      "Collecting blis<0.5.0,>=0.4.0\n",
      "  Downloading blis-0.4.1-cp38-cp38-win_amd64.whl (5.0 MB)\n",
      "Collecting preshed<3.1.0,>=3.0.2\n",
      "  Downloading preshed-3.0.2-cp38-cp38-win_amd64.whl (115 kB)\n",
      "Collecting murmurhash<1.1.0,>=0.28.0\n",
      "  Downloading murmurhash-1.0.2-cp38-cp38-win_amd64.whl (20 kB)\n",
      "Requirement already satisfied: certifi>=2017.4.17 in d:\\conda\\lib\\site-packages (from requests<3.0.0,>=2.13.0->spacy) (2020.6.20)\n",
      "Requirement already satisfied: urllib3!=1.25.0,!=1.25.1,<1.26,>=1.21.1 in d:\\conda\\lib\\site-packages (from requests<3.0.0,>=2.13.0->spacy) (1.25.9)\n",
      "Requirement already satisfied: idna<3,>=2.5 in d:\\conda\\lib\\site-packages (from requests<3.0.0,>=2.13.0->spacy) (2.10)\n",
      "Requirement already satisfied: chardet<4,>=3.0.2 in d:\\conda\\lib\\site-packages (from requests<3.0.0,>=2.13.0->spacy) (3.0.4)\n",
      "Installing collected packages: cymem, srsly, wasabi, murmurhash, preshed, plac, catalogue, blis, thinc, spacy\n",
      "Successfully installed blis-0.4.1 catalogue-1.0.0 cymem-2.0.3 murmurhash-1.0.2 plac-1.1.3 preshed-3.0.2 spacy-2.3.2 srsly-1.0.2 thinc-7.4.1 wasabi-0.8.0\n"
     ]
    }
   ],
   "source": [
    "!pip install spacy\n"
   ]
  },
  {
   "cell_type": "code",
   "execution_count": 13,
   "metadata": {},
   "outputs": [
    {
     "name": "stdout",
     "output_type": "stream",
     "text": [
      "Requirement already satisfied: newsapi-python in d:\\conda\\lib\\site-packages (0.2.6)\n",
      "Requirement already satisfied: requests<3.0.0 in d:\\conda\\lib\\site-packages (from newsapi-python) (2.24.0)\n",
      "Requirement already satisfied: idna<3,>=2.5 in d:\\conda\\lib\\site-packages (from requests<3.0.0->newsapi-python) (2.10)\n",
      "Requirement already satisfied: chardet<4,>=3.0.2 in d:\\conda\\lib\\site-packages (from requests<3.0.0->newsapi-python) (3.0.4)\n",
      "Requirement already satisfied: certifi>=2017.4.17 in d:\\conda\\lib\\site-packages (from requests<3.0.0->newsapi-python) (2020.6.20)\n",
      "Requirement already satisfied: urllib3!=1.25.0,!=1.25.1,<1.26,>=1.21.1 in d:\\conda\\lib\\site-packages (from requests<3.0.0->newsapi-python) (1.25.9)\n"
     ]
    }
   ],
   "source": [
    "!pip install newsapi-python"
   ]
  },
  {
   "cell_type": "code",
   "execution_count": 5,
   "metadata": {},
   "outputs": [
    {
     "name": "stdout",
     "output_type": "stream",
     "text": [
      "Requirement already satisfied: en_core_web_lg==2.3.1 from https://github.com/explosion/spacy-models/releases/download/en_core_web_lg-2.3.1/en_core_web_lg-2.3.1.tar.gz#egg=en_core_web_lg==2.3.1 in d:\\conda\\lib\\site-packages (2.3.1)\n",
      "Requirement already satisfied: spacy<2.4.0,>=2.3.0 in d:\\conda\\lib\\site-packages (from en_core_web_lg==2.3.1) (2.3.2)\n",
      "Requirement already satisfied: plac<1.2.0,>=0.9.6 in d:\\conda\\lib\\site-packages (from spacy<2.4.0,>=2.3.0->en_core_web_lg==2.3.1) (1.1.3)\n",
      "Requirement already satisfied: wasabi<1.1.0,>=0.4.0 in d:\\conda\\lib\\site-packages (from spacy<2.4.0,>=2.3.0->en_core_web_lg==2.3.1) (0.8.0)\n",
      "Requirement already satisfied: tqdm<5.0.0,>=4.38.0 in d:\\conda\\lib\\site-packages (from spacy<2.4.0,>=2.3.0->en_core_web_lg==2.3.1) (4.47.0)\n",
      "Requirement already satisfied: blis<0.5.0,>=0.4.0 in d:\\conda\\lib\\site-packages (from spacy<2.4.0,>=2.3.0->en_core_web_lg==2.3.1) (0.4.1)\n",
      "Requirement already satisfied: preshed<3.1.0,>=3.0.2 in d:\\conda\\lib\\site-packages (from spacy<2.4.0,>=2.3.0->en_core_web_lg==2.3.1) (3.0.2)\n",
      "Requirement already satisfied: setuptools in d:\\conda\\lib\\site-packages (from spacy<2.4.0,>=2.3.0->en_core_web_lg==2.3.1) (49.2.0.post20200714)\n",
      "Requirement already satisfied: numpy>=1.15.0 in d:\\conda\\lib\\site-packages (from spacy<2.4.0,>=2.3.0->en_core_web_lg==2.3.1) (1.18.5)\n",
      "Requirement already satisfied: catalogue<1.1.0,>=0.0.7 in d:\\conda\\lib\\site-packages (from spacy<2.4.0,>=2.3.0->en_core_web_lg==2.3.1) (1.0.0)\n",
      "Requirement already satisfied: srsly<1.1.0,>=1.0.2 in d:\\conda\\lib\\site-packages (from spacy<2.4.0,>=2.3.0->en_core_web_lg==2.3.1) (1.0.2)\n",
      "Requirement already satisfied: requests<3.0.0,>=2.13.0 in d:\\conda\\lib\\site-packages (from spacy<2.4.0,>=2.3.0->en_core_web_lg==2.3.1) (2.24.0)\n",
      "Requirement already satisfied: thinc==7.4.1 in d:\\conda\\lib\\site-packages (from spacy<2.4.0,>=2.3.0->en_core_web_lg==2.3.1) (7.4.1)\n",
      "Requirement already satisfied: murmurhash<1.1.0,>=0.28.0 in d:\\conda\\lib\\site-packages (from spacy<2.4.0,>=2.3.0->en_core_web_lg==2.3.1) (1.0.2)\n",
      "Requirement already satisfied: cymem<2.1.0,>=2.0.2 in d:\\conda\\lib\\site-packages (from spacy<2.4.0,>=2.3.0->en_core_web_lg==2.3.1) (2.0.3)\n",
      "Requirement already satisfied: certifi>=2017.4.17 in d:\\conda\\lib\\site-packages (from requests<3.0.0,>=2.13.0->spacy<2.4.0,>=2.3.0->en_core_web_lg==2.3.1) (2020.6.20)\n",
      "Requirement already satisfied: idna<3,>=2.5 in d:\\conda\\lib\\site-packages (from requests<3.0.0,>=2.13.0->spacy<2.4.0,>=2.3.0->en_core_web_lg==2.3.1) (2.10)\n",
      "Requirement already satisfied: urllib3!=1.25.0,!=1.25.1,<1.26,>=1.21.1 in d:\\conda\\lib\\site-packages (from requests<3.0.0,>=2.13.0->spacy<2.4.0,>=2.3.0->en_core_web_lg==2.3.1) (1.25.9)\n",
      "Requirement already satisfied: chardet<4,>=3.0.2 in d:\\conda\\lib\\site-packages (from requests<3.0.0,>=2.13.0->spacy<2.4.0,>=2.3.0->en_core_web_lg==2.3.1) (3.0.4)\n",
      "[+] Download and installation successful\n",
      "You can now load the model via spacy.load('en_core_web_lg')\n"
     ]
    }
   ],
   "source": [
    "!python -m spacy download en_core_web_lg"
   ]
  },
  {
   "cell_type": "code",
   "execution_count": 3,
   "metadata": {},
   "outputs": [],
   "source": [
    "import spacy\n",
    "import en_core_web_lg\n",
    "from newsapi.newsapi_client import NewsApiClient"
   ]
  },
  {
   "cell_type": "code",
   "execution_count": 4,
   "metadata": {},
   "outputs": [],
   "source": [
    "nlp_eng = en_core_web_lg.load()\n",
    "newsapi = NewsApiClient (api_key='KEY_HERE')"
   ]
  },
  {
   "cell_type": "code",
   "execution_count": 24,
   "metadata": {},
   "outputs": [],
   "source": [
    "articles = []\n",
    "for x in range(5):\n",
    "    articles.append(newsapi.get_everything(q='coronavirus', language='en', \n",
    "                                  from_param='2020-09-29', to='2020-10-27', sort_by='relevancy',page=x+1))"
   ]
  },
  {
   "cell_type": "code",
   "execution_count": 27,
   "metadata": {},
   "outputs": [
    {
     "name": "stdout",
     "output_type": "stream",
     "text": [
      "{'status': 'ok', 'totalResults': 172364, 'articles': [{'source': {'id': None, 'name': 'New York Times'}, 'author': 'Bryan Pietsch', 'title': 'Coronavirus Tracers Beg Residents: Please Answer Your Phones', 'description': 'Spam calls and scammers are more than annoying; they’re hindering efforts to track the coronavirus.', 'url': 'https://www.nytimes.com/2020/09/29/us/covid-contact-tracing.html', 'urlToImage': 'https://static01.nyt.com/images/2020/09/28/multimedia/28xp-contacttracing/merlin_174849945_f345bcdd-818d-4e73-9a4e-fe244a7760ae-facebookJumbo.jpg', 'publishedAt': '2020-09-29T14:34:12Z', 'content': 'Thats far better than what many municipalities are reporting, Dr. Cannuscio said.\\r\\nTracers in Louisiana were able to reach 66 percent of identified cases from May 15 to Sept. 24, Alyson Neel, a spoke… [+1443 chars]'}, {'source': {'id': None, 'name': 'New York Times'}, 'author': 'Farhad Manjoo', 'title': 'Why Won’t Trump Tell Americans to Wear Masks?', 'description': 'How a simple, effective tool to prevent coronavirus infection turned into a partisan fault line.', 'url': 'https://www.nytimes.com/2020/09/30/opinion/coronavirus-masks.html', 'urlToImage': 'https://static01.nyt.com/images/2020/09/30/opinion/30ManjooWebSub/30ManjooWebSub-facebookJumbo.jpg', 'publishedAt': '2020-09-30T09:00:22Z', 'content': 'Still, once Trump staked out an anti-mask position, much of right-wing media took their cues from him. The mask became a fault line.\\r\\nIn The Federalist, David Marcus argued that masks symbolized weak… [+2011 chars]'}, {'source': {'id': None, 'name': 'New York Times'}, 'author': 'Alexis Soloski', 'title': 'Review: In ‘The Journey,’ Scott Silven Tours Your Mind', 'description': 'Coronavirus travel restrictions don’t prevent the mentalist from visiting your head in this hourlong online show.', 'url': 'https://www.nytimes.com/2020/10/02/theater/the-journey-review.html', 'urlToImage': 'https://static01.nyt.com/images/2020/10/02/arts/02journey-2/02journey-2-facebookJumbo.jpg', 'publishedAt': '2020-10-02T18:50:02Z', 'content': 'Maybe its not so hard to know what people are thinking right now. If you approached random adults in my corner of Brooklyn and hazarded vaccine or the election or school reopening, you might startle … [+830 chars]'}, {'source': {'id': None, 'name': 'New York Times'}, 'author': 'Thomas L. Friedman', 'title': 'China Got Better. We Got Sicker. Thanks, Trump.', 'description': 'With a different leader, the United States could have contained the coronavirus.', 'url': 'https://www.nytimes.com/2020/10/13/opinion/trump-china-coronavirus.html', 'urlToImage': 'https://static01.nyt.com/images/2020/10/13/opinion/13friedman1/13friedman1-facebookJumbo.jpg', 'publishedAt': '2020-10-13T23:50:48Z', 'content': 'America cannot employ such a strategy. We dont have an authoritarian government (yet), and I sure dont want one. But we failed to produce a democratic consensus to do the same job.\\r\\nThats what is so … [+2026 chars]'}, {'source': {'id': 'bbc-news', 'name': 'BBC News'}, 'author': 'https://www.facebook.com/bbcnews', 'title': 'US election 2020: Harris halts travel after aide tests positive for coronavirus', 'description': 'The vice-presidential candidate was not exposed to coronavirus positive staff, the campaign said.', 'url': 'https://www.bbc.co.uk/news/election-us-2020-54559605', 'urlToImage': 'https://ichef.bbci.co.uk/news/1024/branded_news/E5F8/production/_114927885_gettyimages-1228964799-1.jpg', 'publishedAt': '2020-10-15T14:39:52Z', 'content': 'image copyrightGetty Images\\r\\nimage captionMr Biden and Mrs Harris campaigned in Arizona together last Thursday\\r\\nDemocratic vice-presidential candidate Kamala Harris will halt campaign travel until Mo… [+2549 chars]'}, {'source': {'id': 'bbc-news', 'name': 'BBC News'}, 'author': 'https://www.facebook.com/bbcnews', 'title': \"Coronavirus: WHO head calls herd immunity approach 'immoral'\", 'description': 'Dr Ghebreyesus said allowing coronavirus to spread unchecked would cause unnecessary suffering and death.', 'url': 'https://www.bbc.co.uk/news/world-54518286', 'urlToImage': 'https://ichef.bbci.co.uk/news/1024/branded_news/00B1/production/_114877100_tv063687635.jpg', 'publishedAt': '2020-10-12T22:23:30Z', 'content': \"Image copyrightReutersImage caption\\r\\n Dr Ghebreyesus said allowing the virus to spread would cause 'unnecessary' suffering\\r\\nThe head of the World Health Organization has ruled out a herd immunity res… [+1472 chars]\"}, {'source': {'id': 'bbc-news', 'name': 'BBC News'}, 'author': None, 'title': 'World number one Johnson tests positive for coronavirus', 'description': 'World number one Dustin Johnson tests positive for coronavirus, the PGA Tour announces.', 'url': 'https://www.bbc.co.uk/sport/golf/54532968', 'urlToImage': 'https://ichef.bbci.co.uk/live-experience/cps/624/cpsprodpb/C971/production/_114896515_johnson.jpg', 'publishedAt': '2020-10-13T20:06:08Z', 'content': 'Johnson playing in the US Open in September\\r\\nWorld number one Dustin Johnson has tested positive for coronavirus, the PGA Tour has announced.\\r\\nJohnson, 36, who is now self-isolating, has withdrawn fr… [+752 chars]'}, {'source': {'id': 'bbc-news', 'name': 'BBC News'}, 'author': 'https://www.facebook.com/bbcnews', 'title': 'Bihar elections: Crowds throng rallies amid coronavirus fear', 'description': 'Experts say that flouting coronavirus safety rules at rallies can have devastating consequences.', 'url': 'https://www.bbc.co.uk/news/world-asia-india-54657433', 'urlToImage': 'https://ichef.bbci.co.uk/news/1024/branded_news/8B1E/production/_115041653_gettyimages-1229209078.jpg', 'publishedAt': '2020-10-23T07:59:57Z', 'content': 'By Vikas PandeyBBC News, Delhi\\r\\nimage copyrightGetty Images\\r\\nimage captionLarge crowds have been seen in political rallies in BIhar\\r\\nIndian Prime Minister Narendra Modi on Tuesday asked people not to… [+5312 chars]'}, {'source': {'id': 'mashable', 'name': 'Mashable'}, 'author': 'Tulika Bose', 'title': 'Your privacy may be another victim of the coronavirus pandemic', 'description': 'Drones. Surveillance creep. A terrifying new normal is approaching...regardless of whether we like it or not.\\xa0\\nRead the full story here. Read more...More about Mashable Video, Cybersecurity, Election, Digital Surveillance, and Tech', 'url': 'https://mashable.com/video/digital-surveillance/', 'urlToImage': 'https://mondrian.mashable.com/2020%252F10%252F12%252F09%252F8c9f9b1415324b74802699f1134473b9.ed84f.png%252F1200x630.png?signature=gwmQYlLb515fmTb2i3OtYyO2qZI=', 'publishedAt': '2020-10-12T19:52:58Z', 'content': 'Drones. Surveillance creep. A terrifying new normal is approaching...regardless of whether we like it or not.\\xa0\\r\\nRead the full story here.'}, {'source': {'id': 'mashable', 'name': 'Mashable'}, 'author': 'Sasha Lekach', 'title': \"After coronavirus shutdown, Lyft's self-driving cars will pick up passengers again\", 'description': 'You can order a self-driving car on Lyft again.\\xa0\\nThe company paused its autonomous taxi program, which only operates in Las Vegas, in \\xa0March because of the coronavirus pandemic. Starting Thursday, the fleet will be picking up passengers again. Before the shut…', 'url': 'https://mashable.com/article/lyft-motional-self-driving-cars-return/', 'urlToImage': 'https://mondrian.mashable.com/2020%252F10%252F22%252F2e%252F7ba5adca524a43ad842977b5d22c6126.1d68b.jpg%252F1200x630.jpg?signature=Vv6wmO76cVvRmsIf994VYxmqynQ=', 'publishedAt': '2020-10-22T13:00:00Z', 'content': 'You can order a self-driving car on Lyft again.\\xa0\\r\\nThe company paused its autonomous taxi program, which only operates in Las Vegas, in \\xa0March because of the coronavirus pandemic. Starting Thursday, t… [+1182 chars]'}, {'source': {'id': None, 'name': 'New York Times'}, 'author': 'Sheryl Gay Stolberg and Noah Weiland', 'title': 'Study Finds ‘Single Largest Driver’ of Coronavirus Misinformation: Trump', 'description': 'Cornell University researchers analyzing 38 million English-language articles about the pandemic found that President Trump was the largest driver of the “infodemic.”', 'url': 'https://www.nytimes.com/2020/09/30/us/politics/trump-coronavirus-misinformation.html', 'urlToImage': 'https://static01.nyt.com/images/2020/09/30/us/politics/30dc-virus-disinformation/30dc-virus-disinformation-facebookJumbo.jpg', 'publishedAt': '2020-09-30T23:30:50Z', 'content': 'But in interviews, the Cornell researchers said they expected to find more mentions of conspiracy theories, and not so many articles involving Mr. Trump.\\r\\nPublic health experts know that clear, conci… [+2379 chars]'}, {'source': {'id': None, 'name': 'New York Times'}, 'author': 'Maggie Haberman and Michael D. Shear', 'title': 'Hope Hicks, Senior Trump Adviser, Tests Positive for Coronavirus', 'description': 'Ms. Hicks, the closest known person to the president to have contracted the virus, traveled with him this week aboard Air Force One.', 'url': 'https://www.nytimes.com/2020/10/01/us/politics/hope-hicks-coronavirus-white-house.html', 'urlToImage': 'https://static01.nyt.com/images/2020/10/01/us/politics/01dc-hicks/01dc-hicks-facebookJumbo.jpg', 'publishedAt': '2020-10-02T02:23:49Z', 'content': 'Reporters who are scheduled to travel with the president are required to get coronavirus tests before they are permitted on Air Force One or into Oval Office meetings. Other visitors are also screene… [+1621 chars]'}, {'source': {'id': None, 'name': 'New York Times'}, 'author': None, 'title': 'How a Small California Bar Battled to Survive the Coronavirus', 'description': 'We chart the trials of a tavern in Oakland, Calif., that was thriving until the pandemic brought economic and emotional turmoil.', 'url': 'https://www.nytimes.com/2020/10/06/podcasts/the-daily/how-a-small-bar-battled-to-survive-the-coronavirus.html', 'urlToImage': 'https://static01.nyt.com/images/2020/06/14/business/06daily-hatch3/00virus-hatch-facebookJumbo.jpg', 'publishedAt': '2020-10-06T10:02:07Z', 'content': 'Jack Nicas contributed reporting.\\r\\nThe Daily is made by Theo Balcomb, Andy Mills, Lisa Tobin, Rachel Quester, Lynsea Garrison, Annie Brown, Clare Toeniskoetter, Paige Cowett, Michael Simon Johnson, B… [+635 chars]'}, {'source': {'id': None, 'name': 'New York Times'}, 'author': 'The New York Times', 'title': 'American Public Grows Increasingly Wary of Coronavirus Vaccines', 'description': 'California and New York plan to review any federally approved coronavirus vaccine, part of a growing skepticism as the Trump administration has pushed for speedy drug development.', 'url': 'https://www.nytimes.com/live/2020/10/20/world/covid-19-coronavirus-updates', 'urlToImage': 'https://static01.nyt.com/images/2020/10/20/world/20virus-briefing-vaccines1/20virus-briefing-vaccines1-facebookJumbo.jpg', 'publishedAt': '2020-10-20T09:53:46Z', 'content': 'LiveUpdated\\xa0Oct. 20, 2020, 6:06 a.m. ET\\r\\nOct. 20, 2020, 6:06 a.m. ET\\r\\nCalifornia and New York plan to review any federally approved coronavirus vaccine, part of a growing skepticism as the Trump admi… [+14717 chars]'}, {'source': {'id': None, 'name': 'New York Times'}, 'author': 'Alan Blinder', 'title': 'Nick Saban, Alabama’s Football Coach, Tests Positive for Coronavirus', 'description': 'The renowned Alabama coach is the most prominent figure in college sports known to have tested positive during the coronavirus pandemic.', 'url': 'https://www.nytimes.com/2020/10/14/sports/ncaafootball/coronavirus-nick-saban-alabama.html', 'urlToImage': 'https://static01.nyt.com/images/2020/10/14/sports/14saban-web-1/14saban-web-1-facebookJumbo.jpg', 'publishedAt': '2020-10-14T22:12:04Z', 'content': 'Nick Saban, the University of Alabamas revered football coach and one of the most powerful figures in college sports, said Wednesday that he had tested positive for the coronavirus.\\r\\nSaban, whose sec… [+909 chars]'}, {'source': {'id': None, 'name': 'New York Times'}, 'author': 'Apoorva Mandavilli', 'title': 'Could Trump Still Spread the Coronavirus? Probably Not, Experts Say', 'description': 'While questions have surrounded the timing and severity of the president’s illness, health experts said he was unlikely to infect people at Thursday’s town hall event on NBC.', 'url': 'https://www.nytimes.com/2020/10/15/us/politics/covid-trump.html', 'urlToImage': 'https://static01.nyt.com/images/2020/10/15/us/politics/15virus-trumptownhall/15virus-trumptownhall-facebookJumbo.jpg', 'publishedAt': '2020-10-15T19:36:53Z', 'content': 'The Centers for Disease Control and Prevention recommends that infected patients isolate for at least 10 days if they had mild or moderate illness, and for up to 20 days if they had severe symptoms. … [+1238 chars]'}, {'source': {'id': None, 'name': 'New York Times'}, 'author': 'Emily Cochrane', 'title': 'Senate Republicans Denounce White House’s Offer for Coronavirus Relief', 'description': 'Even as Democrats held out for more concessions over funding and provisions, it was the deep divisions among Republicans that were standing in the way.', 'url': 'https://www.nytimes.com/2020/10/10/us/politics/senate-republicans-white-house-coronavirus-relief.html', 'urlToImage': 'https://static01.nyt.com/images/2020/10/10/us/politics/10dc-virus-cong-2/10dc-virus-cong-2-facebookJumbo.jpg', 'publishedAt': '2020-10-10T21:27:05Z', 'content': 'Senator Marsha Blackburn of Tennessee, a Republican, warned that accepting a bill with Ms. Pelosis support would amount to a death knell for the partys ambitions to retain its majority in the Senate … [+2402 chars]'}, {'source': {'id': None, 'name': 'New York Times'}, 'author': 'Julie Bosman, Sarah Mervosh and Marc Santora', 'title': 'As the Coronavirus Surges, a New Culprit Emerges: Pandemic Fatigue', 'description': 'Exhaustion and impatience are creating new risks as cases soar in parts of the world. “They have had enough,” one U.S. mayor said of her residents.', 'url': 'https://www.nytimes.com/2020/10/17/us/coronavirus-pandemic-fatigue.html', 'urlToImage': 'https://static01.nyt.com/images/2020/10/17/us/17virus-stateofthevirus/17virus-stateofthevirus-facebookJumbo.jpg', 'publishedAt': '2020-10-17T19:50:37Z', 'content': 'Sick people are telling contact tracers they picked up the virus while trying to return to ordinary life. Beth Martin, a retired school librarian who is working as a contact tracer in Marathon County… [+1297 chars]'}, {'source': {'id': None, 'name': 'New York Times'}, 'author': 'The New York Times', 'title': 'Coronavirus Reinfections Do Happen but Are Very, Very Rare', 'description': 'A case in Nevada has prompted concerns that recovered people may still be vulnerable. The Midwest and West are driving a U.S. surge. Here’s the latest.', 'url': 'https://www.nytimes.com/live/2020/10/14/world/covid-coronavirus', 'urlToImage': 'https://static01.nyt.com/images/2020/10/14/us/politics/14virus-briefing-reinfection4/merlin_175562739_546635df-0978-488a-a02b-9776e2493cd2-facebookJumbo.jpg', 'publishedAt': '2020-10-14T10:00:24Z', 'content': 'LiveUpdated\\xa0Oct. 14, 2020, 5:43 a.m. ET\\r\\nOct. 14, 2020, 5:43 a.m. ET\\r\\nA case in Nevada has prompted concerns that people who have recovered from the coronavirus may still be vulnerable. Thats unlikel… [+8345 chars]'}, {'source': {'id': None, 'name': 'New York Times'}, 'author': 'Matina Stevis-Gridneff', 'title': 'E.U. Members to Adopt Travel Guidelines as Coronavirus Spreads', 'description': 'But the bloc’s 27 countries will remain largely autonomous in their approach under recommendations that are expected to be approved next week.', 'url': 'https://www.nytimes.com/2020/10/09/world/europe/eu-coronavirus-travel-rules.html', 'urlToImage': 'https://static01.nyt.com/images/2020/10/09/world/09eu-travel-1/09eu-travel-1-facebookJumbo.jpg', 'publishedAt': '2020-10-09T18:21:12Z', 'content': 'As cases in Belgium surge, bars and cafes have been shuttered in Brussels.\\r\\nAnd in Spain, which currently has one of the worst new coronavirus caseloads in the European Union, the government is consi… [+1261 chars]'}]}\n"
     ]
    }
   ],
   "source": [
    "print(articles[4])"
   ]
  },
  {
   "cell_type": "code",
   "execution_count": 36,
   "metadata": {},
   "outputs": [
    {
     "name": "stdout",
     "output_type": "stream",
     "text": [
      "100\n"
     ]
    }
   ],
   "source": [
    "data = []\n",
    "\n",
    "for article in articles:\n",
    "    for x in article['articles']:\n",
    "        title = x['title']\n",
    "        desc = x['description']\n",
    "        content = x['content']\n",
    "        data.append({'title': title, 'description': desc, 'content':content})\n",
    "    \n",
    "print(len(data))"
   ]
  },
  {
   "cell_type": "code",
   "execution_count": 37,
   "metadata": {},
   "outputs": [
    {
     "data": {
      "text/html": [
       "<div>\n",
       "<style scoped>\n",
       "    .dataframe tbody tr th:only-of-type {\n",
       "        vertical-align: middle;\n",
       "    }\n",
       "\n",
       "    .dataframe tbody tr th {\n",
       "        vertical-align: top;\n",
       "    }\n",
       "\n",
       "    .dataframe thead th {\n",
       "        text-align: right;\n",
       "    }\n",
       "</style>\n",
       "<table border=\"1\" class=\"dataframe\">\n",
       "  <thead>\n",
       "    <tr style=\"text-align: right;\">\n",
       "      <th></th>\n",
       "      <th>title</th>\n",
       "      <th>description</th>\n",
       "      <th>content</th>\n",
       "    </tr>\n",
       "  </thead>\n",
       "  <tbody>\n",
       "    <tr>\n",
       "      <th>0</th>\n",
       "      <td>Sorry, Mouthwash Isn't a Coronavirus Cure</td>\n",
       "      <td>Mouthwash is designed to kill germs in your mo...</td>\n",
       "      <td>Mouthwash is designed to kill germs in your mo...</td>\n",
       "    </tr>\n",
       "    <tr>\n",
       "      <th>1</th>\n",
       "      <td>Check an Airline's Coronavirus Policies Before...</td>\n",
       "      <td>Navigating air travel during the COVID-19 pand...</td>\n",
       "      <td>Navigating air travel during the COVID-19 pand...</td>\n",
       "    </tr>\n",
       "    <tr>\n",
       "      <th>2</th>\n",
       "      <td>Twitter flags, limits sharing on Trump tweet a...</td>\n",
       "      <td>Twitter disabled sharing options on a tweet fr...</td>\n",
       "      <td>The tweet violated the platforms rules against...</td>\n",
       "    </tr>\n",
       "    <tr>\n",
       "      <th>3</th>\n",
       "      <td>Coronavirus and Home Design</td>\n",
       "      <td>A recent survey of architects reveals that cli...</td>\n",
       "      <td>The coronavirus pandemic is already shaping ho...</td>\n",
       "    </tr>\n",
       "    <tr>\n",
       "      <th>4</th>\n",
       "      <td>Coronavirus Briefing: What Happened Today</td>\n",
       "      <td>What the near future may hold</td>\n",
       "      <td>Many leaders most notably President Trump have...</td>\n",
       "    </tr>\n",
       "  </tbody>\n",
       "</table>\n",
       "</div>"
      ],
      "text/plain": [
       "                                               title  \\\n",
       "0          Sorry, Mouthwash Isn't a Coronavirus Cure   \n",
       "1  Check an Airline's Coronavirus Policies Before...   \n",
       "2  Twitter flags, limits sharing on Trump tweet a...   \n",
       "3                        Coronavirus and Home Design   \n",
       "4          Coronavirus Briefing: What Happened Today   \n",
       "\n",
       "                                         description  \\\n",
       "0  Mouthwash is designed to kill germs in your mo...   \n",
       "1  Navigating air travel during the COVID-19 pand...   \n",
       "2  Twitter disabled sharing options on a tweet fr...   \n",
       "3  A recent survey of architects reveals that cli...   \n",
       "4                      What the near future may hold   \n",
       "\n",
       "                                             content  \n",
       "0  Mouthwash is designed to kill germs in your mo...  \n",
       "1  Navigating air travel during the COVID-19 pand...  \n",
       "2  The tweet violated the platforms rules against...  \n",
       "3  The coronavirus pandemic is already shaping ho...  \n",
       "4  Many leaders most notably President Trump have...  "
      ]
     },
     "execution_count": 37,
     "metadata": {},
     "output_type": "execute_result"
    }
   ],
   "source": [
    "import pandas as pd\n",
    "\n",
    "df = pd.DataFrame(data)\n",
    "df = df.dropna()\n",
    "df.head()"
   ]
  },
  {
   "cell_type": "code",
   "execution_count": 39,
   "metadata": {},
   "outputs": [
    {
     "data": {
      "text/html": [
       "<div>\n",
       "<style scoped>\n",
       "    .dataframe tbody tr th:only-of-type {\n",
       "        vertical-align: middle;\n",
       "    }\n",
       "\n",
       "    .dataframe tbody tr th {\n",
       "        vertical-align: top;\n",
       "    }\n",
       "\n",
       "    .dataframe thead th {\n",
       "        text-align: right;\n",
       "    }\n",
       "</style>\n",
       "<table border=\"1\" class=\"dataframe\">\n",
       "  <thead>\n",
       "    <tr style=\"text-align: right;\">\n",
       "      <th></th>\n",
       "      <th>title</th>\n",
       "      <th>description</th>\n",
       "      <th>content</th>\n",
       "      <th>keywords</th>\n",
       "    </tr>\n",
       "  </thead>\n",
       "  <tbody>\n",
       "    <tr>\n",
       "      <th>0</th>\n",
       "      <td>Sorry, Mouthwash Isn't a Coronavirus Cure</td>\n",
       "      <td>Mouthwash is designed to kill germs in your mo...</td>\n",
       "      <td>Mouthwash is designed to kill germs in your mo...</td>\n",
       "      <td>[#Mouthwash, #designed, #kill, #germs, #mouth]</td>\n",
       "    </tr>\n",
       "    <tr>\n",
       "      <th>1</th>\n",
       "      <td>Check an Airline's Coronavirus Policies Before...</td>\n",
       "      <td>Navigating air travel during the COVID-19 pand...</td>\n",
       "      <td>Navigating air travel during the COVID-19 pand...</td>\n",
       "      <td>[#Navigating, #air, #travel, #COVID-19, #pande...</td>\n",
       "    </tr>\n",
       "    <tr>\n",
       "      <th>2</th>\n",
       "      <td>Twitter flags, limits sharing on Trump tweet a...</td>\n",
       "      <td>Twitter disabled sharing options on a tweet fr...</td>\n",
       "      <td>The tweet violated the platforms rules against...</td>\n",
       "      <td>[#tweet, #sharing, #violated, #platforms, #rules]</td>\n",
       "    </tr>\n",
       "    <tr>\n",
       "      <th>3</th>\n",
       "      <td>Coronavirus and Home Design</td>\n",
       "      <td>A recent survey of architects reveals that cli...</td>\n",
       "      <td>The coronavirus pandemic is already shaping ho...</td>\n",
       "      <td>[#pandemic, #coronavirus, #shaping, #home, #de...</td>\n",
       "    </tr>\n",
       "    <tr>\n",
       "      <th>4</th>\n",
       "      <td>Coronavirus Briefing: What Happened Today</td>\n",
       "      <td>What the near future may hold</td>\n",
       "      <td>Many leaders most notably President Trump have...</td>\n",
       "      <td>[#leaders, #President, #Trump, #described, #ar...</td>\n",
       "    </tr>\n",
       "  </tbody>\n",
       "</table>\n",
       "</div>"
      ],
      "text/plain": [
       "                                               title  \\\n",
       "0          Sorry, Mouthwash Isn't a Coronavirus Cure   \n",
       "1  Check an Airline's Coronavirus Policies Before...   \n",
       "2  Twitter flags, limits sharing on Trump tweet a...   \n",
       "3                        Coronavirus and Home Design   \n",
       "4          Coronavirus Briefing: What Happened Today   \n",
       "\n",
       "                                         description  \\\n",
       "0  Mouthwash is designed to kill germs in your mo...   \n",
       "1  Navigating air travel during the COVID-19 pand...   \n",
       "2  Twitter disabled sharing options on a tweet fr...   \n",
       "3  A recent survey of architects reveals that cli...   \n",
       "4                      What the near future may hold   \n",
       "\n",
       "                                             content  \\\n",
       "0  Mouthwash is designed to kill germs in your mo...   \n",
       "1  Navigating air travel during the COVID-19 pand...   \n",
       "2  The tweet violated the platforms rules against...   \n",
       "3  The coronavirus pandemic is already shaping ho...   \n",
       "4  Many leaders most notably President Trump have...   \n",
       "\n",
       "                                            keywords  \n",
       "0     [#Mouthwash, #designed, #kill, #germs, #mouth]  \n",
       "1  [#Navigating, #air, #travel, #COVID-19, #pande...  \n",
       "2  [#tweet, #sharing, #violated, #platforms, #rules]  \n",
       "3  [#pandemic, #coronavirus, #shaping, #home, #de...  \n",
       "4  [#leaders, #President, #Trump, #described, #ar...  "
      ]
     },
     "execution_count": 39,
     "metadata": {},
     "output_type": "execute_result"
    }
   ],
   "source": [
    "from collections import Counter\n",
    "\n",
    "results = []\n",
    "\n",
    "def get_keywords_eng(data):\n",
    "    words = []\n",
    "    doc = nlp_eng(data)\n",
    "    punctuation = [\",\",\".\",\"!\",\"?\"]\n",
    "    pos_tag = [\"VERB\", \"NOUN\", \"PROPN\"]\n",
    "    for token in doc:\n",
    "        if (token.text in nlp_eng.Defaults.stop_words or token.text in punctuation):\n",
    "            continue\n",
    "        if (token.pos_ in pos_tag):\n",
    "            words.append(token.text)\n",
    "    return words\n",
    "    \n",
    "for content in df.content.values:\n",
    "    results.append([('#' + x[0]) for x in Counter(get_keywords_eng(content)).most_common(5)])\n",
    "    \n",
    "df['keywords'] = results\n",
    "\n",
    "df.head()"
   ]
  }
 ],
 "metadata": {
  "kernelspec": {
   "display_name": "Python 3",
   "language": "python",
   "name": "python3"
  },
  "language_info": {
   "codemirror_mode": {
    "name": "ipython",
    "version": 3
   },
   "file_extension": ".py",
   "mimetype": "text/x-python",
   "name": "python",
   "nbconvert_exporter": "python",
   "pygments_lexer": "ipython3",
   "version": "3.8.3"
  }
 },
 "nbformat": 4,
 "nbformat_minor": 4
}
